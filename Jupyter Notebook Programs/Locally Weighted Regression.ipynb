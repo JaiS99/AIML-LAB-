{
 "cells": [
  {
   "cell_type": "code",
   "execution_count": null,
   "metadata": {},
   "outputs": [],
   "source": [
    "import matplotlib.pyplot as plt\n",
    "import pandas as pd\n",
    "import numpy as np\n",
    "import pdb\n",
    "def kernel(point, xmat, k):\n",
    "\tm,n=np.shape(xmat)  #size of matrix m\n",
    "\tweights=np.mat(np.eye(m)) #np.eye returns mat with 1 in the diagonal\n",
    "\tfor j in range(m):\n",
    "\t\tdiff=point-xmat[j]\n",
    "\t\tweights[j,j]=np.exp(diff*diff.T/(-2.0*k**2))\n",
    "\treturn weights\n",
    "\n",
    "def localWeight(point,xmat,ymat,k):\n",
    "\tweight=kernel(point,xmat,k)\n",
    "\tW=(xmat.T*(weight*xmat)).I*(xmat.T*(weight*ymat.T))\n",
    "\treturn W\n",
    "\n",
    "def localWeightRegression(xmat,ymat,k):\n",
    "\trow,col=np.shape(xmat) #return 244 rows and  2 columns\n",
    "\typred=np.zeros(row)\n",
    "\tfor i in range(row):\n",
    "\t\typred[i]=xmat[i]*localWeight(xmat[i],xmat,ymat,k)\n",
    "\treturn ypred\n",
    "\n",
    "data=pd.read_csv('tips_10.csv')\n",
    "bill=np.array(data.total_bill)\n",
    "tip=np.array(data.tip)\n",
    "\n",
    "mbill=np.mat(bill)\n",
    "mtip=np.mat(tip)\n",
    "\n",
    "# mbillMatCol=np1.shape(mbill)[1] # 1 for vertical i.e columns\n",
    "mbillMatCol = mbill.shape[1]\n",
    "onesArray=np.mat(np.ones(mbillMatCol))\n",
    "xmat=np.hstack((onesArray.T,mbill.T)) #hstack concate horizontal lists it takes one value from the fist and one from the second  \n",
    "print(xmat)\n",
    "\n",
    "ypred=localWeightRegression(xmat,mtip,2)\n",
    "SortIndex=xmat[ :,1].argsort(0) #argsort take the index of each and sort them according to the orginal value\n",
    "xsort=xmat[SortIndex][:,0]\n",
    "\n",
    "fig= plt.figure()\n",
    "ax=fig.add_subplot(1,1,1)\n",
    "ax.scatter(bill,tip,color='blue')\n",
    "ax.plot(xsort[:,1],ypred[SortIndex],color='red',linewidth=1)\n",
    "plt.xlabel('Total bill')\n",
    "plt.ylabel('tip')\n",
    "plt.show()\n",
    "pdb.set_trace()\n"
   ]
  }
 ],
 "metadata": {
  "language_info": {
   "name": "python"
  },
  "orig_nbformat": 4
 },
 "nbformat": 4,
 "nbformat_minor": 2
}
